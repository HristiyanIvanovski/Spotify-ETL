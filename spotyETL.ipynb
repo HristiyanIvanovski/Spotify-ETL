{
 "cells": [
  {
   "attachments": {},
   "cell_type": "markdown",
   "metadata": {},
   "source": [
    "## Spotify data ETL project"
   ]
  },
  {
   "attachments": {},
   "cell_type": "markdown",
   "metadata": {},
   "source": [
    "### Imports"
   ]
  },
  {
   "cell_type": "code",
   "execution_count": 227,
   "metadata": {},
   "outputs": [],
   "source": [
    "import pandas as pd\n",
    "import sqlalchemy\n",
    "from sqlalchemy.orm import sessionmaker\n",
    "import requests\n",
    "import json\n",
    "import datetime\n",
    "from datetime import datetime, timedelta\n",
    "import sqlite3"
   ]
  },
  {
   "cell_type": "code",
   "execution_count": 228,
   "metadata": {},
   "outputs": [],
   "source": [
    "# constants\n",
    "DB_LOCATION = 'sqlite:///spoty_songs.sqlite'\n",
    "USER_ID = 'Hristiyan'\n",
    "SPOTY_TOKEN = 'BQCalp-OX0Y3WXgEjDgb0a-HRPTewHhS0K3WeU4kUOdTvD4PpAmW1Ou64w0ASuunavi0mgJzKXTMI3FZwcf0eyeKtuwFgvDXQ-V6c4xttkKD4P2XjjurzoMvV2VcSZKAq3htNnFLVyczH-yze3V36P2oZ-kDM9sX4VK9Eyk2Y47msiPhEFEbfn3ctQ8OQRmFxn8_Jw'"
   ]
  },
  {
   "cell_type": "code",
   "execution_count": 229,
   "metadata": {},
   "outputs": [],
   "source": [
    "# create data validation function\n",
    "def data_validation(df: pd.DataFrame) -> bool:\n",
    "    if df.empty:\n",
    "        print('No songs downloaded. Finishing execution')\n",
    "        return False\n",
    "\n",
    "    # Primary Key Check\n",
    "    if pd.Series(df['played_at']).is_unique:\n",
    "        pass\n",
    "    else:\n",
    "        raise Exception('Primary Key Check is violated')\n",
    "\n",
    "    # Check for nulls\n",
    "    if df.isnull().values.any():\n",
    "        raise Exception('Null values found')\n",
    "\n",
    "    # in case we want to check that the timestamp is from any given day\n",
    "    \"\"\"\n",
    "    # Check that all timestamps are created yesterday \n",
    "    yesterday = datetime.now() - timedelta(days=1)\n",
    "    yesterday = yesterday.replace(hour=0, minute=0, second=0, microsecond=0)\n",
    "\n",
    "    timestamps = df['timestamp'].tolist()\n",
    "    for timestamp in timestamps:\n",
    "        if datetime.strptime(timestamp, '%Y-%m-%d') != yesterday:\n",
    "            raise Exception('At least one of the returned songs does not come from yesterday')\n",
    "    \"\"\"\n",
    "\n",
    "    return True"
   ]
  },
  {
   "cell_type": "code",
   "execution_count": 230,
   "metadata": {},
   "outputs": [],
   "source": [
    "# check if current script is being run as main program\n",
    "if __name__ == \"__main__\":\n",
    "    # create the headers for the request\n",
    "    headers = {\n",
    "        \"Accept\" : \"application/json\",\n",
    "        \"Content-Type\" : \"application/json\",\n",
    "        \"Authorization\" : \"Bearer {token}\".format(token=SPOTY_TOKEN)\n",
    "    }"
   ]
  },
  {
   "cell_type": "code",
   "execution_count": 231,
   "metadata": {},
   "outputs": [],
   "source": [
    "# define yesterday unix timestamp step by step\n",
    "today = datetime.now()\n",
    "yesterday = datetime.now() - timedelta(days=60)\n",
    "yesterday_unix_timestamp = int(yesterday.timestamp()) * 1000"
   ]
  },
  {
   "cell_type": "code",
   "execution_count": 232,
   "metadata": {},
   "outputs": [],
   "source": [
    "# request the data from the API\n",
    "r = requests.get(\"https://api.spotify.com/v1/me/player/recently-played?after={time}\".format(time=yesterday_unix_timestamp), headers=headers)"
   ]
  },
  {
   "cell_type": "code",
   "execution_count": 233,
   "metadata": {},
   "outputs": [],
   "source": [
    "# putting data into json format\n",
    "data = r.json()\n",
    "# print(data['items'][0])"
   ]
  },
  {
   "cell_type": "code",
   "execution_count": 234,
   "metadata": {},
   "outputs": [],
   "source": [
    "# create the lists needed for the dataframe\n",
    "song_names = []\n",
    "artist_names = []\n",
    "played_at_list = []\n",
    "timestamps = []"
   ]
  },
  {
   "cell_type": "code",
   "execution_count": 235,
   "metadata": {},
   "outputs": [],
   "source": [
    "# loop through the data and append to the lists\n",
    "for song in data[\"items\"]:\n",
    "    song_names.append(song[\"track\"][\"name\"])\n",
    "    artist_names.append(song[\"track\"][\"album\"][\"artists\"][0][\"name\"])\n",
    "    played_at_list.append(song[\"played_at\"])\n",
    "    timestamps.append(song[\"played_at\"][0:10])"
   ]
  },
  {
   "cell_type": "code",
   "execution_count": 236,
   "metadata": {},
   "outputs": [],
   "source": [
    "# create the dictionary of the data\n",
    "song_dict = {\n",
    "    \"song_name\" : song_names,\n",
    "    \"artist_name\" : artist_names,\n",
    "    \"played_at\" : played_at_list,\n",
    "    \"timestamp\" : timestamps\n",
    "}"
   ]
  },
  {
   "cell_type": "code",
   "execution_count": 237,
   "metadata": {},
   "outputs": [
    {
     "data": {
      "text/html": [
       "<div>\n",
       "<style scoped>\n",
       "    .dataframe tbody tr th:only-of-type {\n",
       "        vertical-align: middle;\n",
       "    }\n",
       "\n",
       "    .dataframe tbody tr th {\n",
       "        vertical-align: top;\n",
       "    }\n",
       "\n",
       "    .dataframe thead th {\n",
       "        text-align: right;\n",
       "    }\n",
       "</style>\n",
       "<table border=\"1\" class=\"dataframe\">\n",
       "  <thead>\n",
       "    <tr style=\"text-align: right;\">\n",
       "      <th></th>\n",
       "      <th>song_name</th>\n",
       "      <th>artist_name</th>\n",
       "      <th>played_at</th>\n",
       "      <th>timestamp</th>\n",
       "    </tr>\n",
       "  </thead>\n",
       "  <tbody>\n",
       "    <tr>\n",
       "      <th>0</th>\n",
       "      <td>Parti</td>\n",
       "      <td>Mikri Maus</td>\n",
       "      <td>2023-03-04T18:48:48.232Z</td>\n",
       "      <td>2023-03-04</td>\n",
       "    </tr>\n",
       "    <tr>\n",
       "      <th>1</th>\n",
       "      <td>I ti i ti</td>\n",
       "      <td>Juice</td>\n",
       "      <td>2023-03-04T18:45:18.008Z</td>\n",
       "      <td>2023-03-04</td>\n",
       "    </tr>\n",
       "    <tr>\n",
       "      <th>2</th>\n",
       "      <td>I ti i ti</td>\n",
       "      <td>Juice</td>\n",
       "      <td>2023-03-04T18:44:07.222Z</td>\n",
       "      <td>2023-03-04</td>\n",
       "    </tr>\n",
       "    <tr>\n",
       "      <th>3</th>\n",
       "      <td>Jahtung</td>\n",
       "      <td>Mikri Maus</td>\n",
       "      <td>2023-03-04T18:44:07.021Z</td>\n",
       "      <td>2023-03-04</td>\n",
       "    </tr>\n",
       "    <tr>\n",
       "      <th>4</th>\n",
       "      <td>Nebo</td>\n",
       "      <td>Connect</td>\n",
       "      <td>2023-03-04T18:42:27.956Z</td>\n",
       "      <td>2023-03-04</td>\n",
       "    </tr>\n",
       "  </tbody>\n",
       "</table>\n",
       "</div>"
      ],
      "text/plain": [
       "   song_name artist_name                 played_at   timestamp\n",
       "0      Parti  Mikri Maus  2023-03-04T18:48:48.232Z  2023-03-04\n",
       "1  I ti i ti       Juice  2023-03-04T18:45:18.008Z  2023-03-04\n",
       "2  I ti i ti       Juice  2023-03-04T18:44:07.222Z  2023-03-04\n",
       "3    Jahtung  Mikri Maus  2023-03-04T18:44:07.021Z  2023-03-04\n",
       "4       Nebo     Connect  2023-03-04T18:42:27.956Z  2023-03-04"
      ]
     },
     "execution_count": 237,
     "metadata": {},
     "output_type": "execute_result"
    }
   ],
   "source": [
    "# create the dataframe\n",
    "songs_df = pd.DataFrame(song_dict, columns = [\"song_name\", \"artist_name\", \"played_at\", \"timestamp\"])\n",
    "\n",
    "# to check df\n",
    "songs_df.head()\n",
    "\n",
    "# to check for specific artist\n",
    "#songs_df[songs_df['artist_name'] == '{Artist Name}'].head()"
   ]
  },
  {
   "cell_type": "code",
   "execution_count": 238,
   "metadata": {},
   "outputs": [
    {
     "name": "stdout",
     "output_type": "stream",
     "text": [
      "Data valid, proceed to Load stage\n"
     ]
    }
   ],
   "source": [
    "# validate the data using the data validation function\n",
    "if data_validation(songs_df):\n",
    "    print('Data valid, proceed to Load stage')"
   ]
  },
  {
   "cell_type": "code",
   "execution_count": 239,
   "metadata": {},
   "outputs": [
    {
     "name": "stdout",
     "output_type": "stream",
     "text": [
      "Created/updated database successfully\n"
     ]
    }
   ],
   "source": [
    "# create/update the database\n",
    "engine = sqlalchemy.create_engine(DB_LOCATION)\n",
    "conn = sqlite3.connect('spoty_songs.sqlite')\n",
    "cursor = conn.cursor()\n",
    "\n",
    "sql_query = \"\"\"\n",
    "CREATE TABLE IF NOT EXISTS spoty_songs (\n",
    "    song_name VARCHAR(200),\n",
    "    artist_name VARCHAR(200),\n",
    "    played_at VARCHAR(200),\n",
    "    timestamp VARCHAR(200),\n",
    "    CONSTRAINT primary_key_constraint PRIMARY KEY (played_at)\n",
    ")\n",
    "\"\"\"\n",
    "\n",
    "cursor.execute(sql_query)\n",
    "print(\"Created/updated database successfully\")"
   ]
  },
  {
   "cell_type": "code",
   "execution_count": 240,
   "metadata": {},
   "outputs": [
    {
     "name": "stdout",
     "output_type": "stream",
     "text": [
      "Data appended successfully\n",
      "Closed database successfully\n"
     ]
    }
   ],
   "source": [
    "# load data from the df into the database\n",
    "try:\n",
    "    songs_df.to_sql(\"spoty_songs\", engine, index=False, if_exists='append')\n",
    "    print(\"Data appended successfully\")\n",
    "except sqlalchemy.exc.IntegrityError:\n",
    "    print(\"Data already exists in the database\")\n",
    "except Exception as e:\n",
    "    print(f\"An error occurred: {e}\")\n",
    "\n",
    "conn.close()\n",
    "print(\"Closed database successfully\")"
   ]
  }
 ],
 "metadata": {
  "kernelspec": {
   "display_name": "Python 3",
   "language": "python",
   "name": "python3"
  },
  "language_info": {
   "codemirror_mode": {
    "name": "ipython",
    "version": 3
   },
   "file_extension": ".py",
   "mimetype": "text/x-python",
   "name": "python",
   "nbconvert_exporter": "python",
   "pygments_lexer": "ipython3",
   "version": "3.10.9"
  },
  "orig_nbformat": 4,
  "vscode": {
   "interpreter": {
    "hash": "a8bdf6ecaabf31b8dd927186e384dbbbe8635513a40e74ead77eb9b9a6cfe8d5"
   }
  }
 },
 "nbformat": 4,
 "nbformat_minor": 2
}
